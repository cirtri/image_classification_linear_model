{
 "cells": [
  {
   "cell_type": "markdown",
   "id": "78b22e3b",
   "metadata": {},
   "source": [
    "## Import necessary libraries"
   ]
  },
  {
   "cell_type": "code",
   "execution_count": 1,
   "id": "ce6e6ef2",
   "metadata": {},
   "outputs": [],
   "source": [
    "import tensorflow as tf\n",
    "from tensorflow import keras\n",
    "import pandas as pd\n",
    "import numpy as np"
   ]
  },
  {
   "cell_type": "markdown",
   "id": "e1659a92",
   "metadata": {},
   "source": [
    "## Import training dataset"
   ]
  },
  {
   "cell_type": "code",
   "execution_count": 7,
   "id": "bd5eb5c8",
   "metadata": {},
   "outputs": [],
   "source": [
    "train_df = pd.read_csv('./train.csv')\n",
    "train_df.head()\n",
    "np.random.shuffle(train_df.values)"
   ]
  },
  {
   "cell_type": "markdown",
   "id": "ae2f15f7",
   "metadata": {},
   "source": [
    "## Linear Model"
   ]
  },
  {
   "cell_type": "code",
   "execution_count": 15,
   "id": "1ce30ae3",
   "metadata": {},
   "outputs": [
    {
     "name": "stdout",
     "output_type": "stream",
     "text": [
      "Epoch 1/5\n",
      "250/250 [==============================] - 1s 2ms/step - loss: 1.1399 - accuracy: 0.6805\n",
      "Epoch 2/5\n",
      "250/250 [==============================] - 1s 2ms/step - loss: 0.1635 - accuracy: 1.0000\n",
      "Epoch 3/5\n",
      "250/250 [==============================] - 1s 2ms/step - loss: 0.0803 - accuracy: 1.0000\n",
      "Epoch 4/5\n",
      "250/250 [==============================] - 0s 2ms/step - loss: 0.0500 - accuracy: 1.0000\n",
      "Epoch 5/5\n",
      "250/250 [==============================] - 0s 2ms/step - loss: 0.0350 - accuracy: 1.0000\n"
     ]
    },
    {
     "data": {
      "text/plain": [
       "<keras.callbacks.History at 0x2cdfa0d9d00>"
      ]
     },
     "execution_count": 15,
     "metadata": {},
     "output_type": "execute_result"
    }
   ],
   "source": [
    "model = keras.Sequential([\n",
    "    keras.layers.Dense(4,input_shape=(2,),activation='relu'),\n",
    "    keras.layers.Dense(2,activation='sigmoid')\n",
    "])\n",
    "\n",
    "model.compile(optimizer='adam',\n",
    "              loss=keras.losses.SparseCategoricalCrossentropy(from_logits=True),\n",
    "              metrics=['accuracy']\n",
    ")\n",
    "\n",
    "x=np.column_stack((train_df.x.values,train_df.y.values))\n",
    "\n",
    "model.fit(x,train_df.color.values,batch_size=16,epochs=5)"
   ]
  },
  {
   "cell_type": "markdown",
   "id": "396c06a5",
   "metadata": {},
   "source": [
    "##  Import test data"
   ]
  },
  {
   "cell_type": "code",
   "execution_count": 19,
   "id": "4ca3e903",
   "metadata": {},
   "outputs": [
    {
     "name": "stdout",
     "output_type": "stream",
     "text": [
      "32/32 [==============================] - 0s 2ms/step - loss: 0.0293 - accuracy: 1.0000\n"
     ]
    },
    {
     "data": {
      "text/plain": [
       "[0.029345113784074783, 1.0]"
      ]
     },
     "execution_count": 19,
     "metadata": {},
     "output_type": "execute_result"
    }
   ],
   "source": [
    "test_df = pd.read_csv('./test.csv')\n",
    "test_x = np.column_stack((test_df.x.values,test_df.y.values))\n",
    "\n",
    "model.evaluate(test_x,test_df.color.values)"
   ]
  }
 ],
 "metadata": {
  "kernelspec": {
   "display_name": "Python 3 (ipykernel)",
   "language": "python",
   "name": "python3"
  },
  "language_info": {
   "codemirror_mode": {
    "name": "ipython",
    "version": 3
   },
   "file_extension": ".py",
   "mimetype": "text/x-python",
   "name": "python",
   "nbconvert_exporter": "python",
   "pygments_lexer": "ipython3",
   "version": "3.9.13"
  }
 },
 "nbformat": 4,
 "nbformat_minor": 5
}
